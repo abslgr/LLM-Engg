{
 "cells": [
  {
   "cell_type": "markdown",
   "id": "d15d8294-3328-4e07-ad16-8a03e9bbfdb9",
   "metadata": {},
   "source": [
    "# Welcome to your first assignment!\n",
    "\n",
    "Instructions are below. Please give this a try, and look in the solutions folder if you get stuck (or feel free to ask me!)"
   ]
  },
  {
   "cell_type": "markdown",
   "id": "ada885d9-4d42-4d9b-97f0-74fbbbfe93a9",
   "metadata": {},
   "source": [
    "<table style=\"margin: 0; text-align: left;\">\n",
    "    <tr>\n",
    "        <td style=\"width: 150px; height: 150px; vertical-align: middle;\">\n",
    "            <img src=\"../resources.jpg\" width=\"150\" height=\"150\" style=\"display: block;\" />\n",
    "        </td>\n",
    "        <td>\n",
    "            <h2 style=\"color:#f71;\">Just before we get to the assignment --</h2>\n",
    "            <span style=\"color:#f71;\">I thought I'd take a second to point you at this page of useful resources for the course. This includes links to all the slides.<br/>\n",
    "            <a href=\"https://edwarddonner.com/2024/11/13/llm-engineering-resources/\">https://edwarddonner.com/2024/11/13/llm-engineering-resources/</a><br/>\n",
    "            Please keep this bookmarked, and I'll continue to add more useful links there over time.\n",
    "            </span>\n",
    "        </td>\n",
    "    </tr>\n",
    "</table>"
   ]
  },
  {
   "cell_type": "markdown",
   "id": "6e9fa1fc-eac5-4d1d-9be4-541b3f2b3458",
   "metadata": {},
   "source": [
    "# HOMEWORK EXERCISE ASSIGNMENT\n",
    "\n",
    "Upgrade the day 1 project to summarize a webpage to use an Open Source model running locally via Ollama rather than OpenAI\n",
    "\n",
    "You'll be able to use this technique for all subsequent projects if you'd prefer not to use paid APIs.\n",
    "\n",
    "**Benefits:**\n",
    "1. No API charges - open-source\n",
    "2. Data doesn't leave your box\n",
    "\n",
    "**Disadvantages:**\n",
    "1. Significantly less power than Frontier Model\n",
    "\n",
    "## Recap on installation of Ollama\n",
    "\n",
    "Simply visit [ollama.com](https://ollama.com) and install!\n",
    "\n",
    "Once complete, the ollama server should already be running locally.  \n",
    "If you visit:  \n",
    "[http://localhost:11434/](http://localhost:11434/)\n",
    "\n",
    "You should see the message `Ollama is running`.  \n",
    "\n",
    "If not, bring up a new Terminal (Mac) or Powershell (Windows) and enter `ollama serve`  \n",
    "And in another Terminal (Mac) or Powershell (Windows), enter `ollama pull llama3.2`  \n",
    "Then try [http://localhost:11434/](http://localhost:11434/) again.\n",
    "\n",
    "If Ollama is slow on your machine, try using `llama3.2:1b` as an alternative. Run `ollama pull llama3.2:1b` from a Terminal or Powershell, and change the code below from `MODEL = \"llama3.2\"` to `MODEL = \"llama3.2:1b\"`"
   ]
  },
  {
   "cell_type": "code",
   "execution_count": 2,
   "id": "95671efb",
   "metadata": {},
   "outputs": [
    {
     "name": "stdout",
     "output_type": "stream",
     "text": [
      "hi\n"
     ]
    }
   ],
   "source": [
    "# imports\n",
    "\n",
    "import requests\n",
    "from bs4 import BeautifulSoup\n",
    "from IPython.display import Markdown, display\n",
    "print(\"hi\")"
   ]
  },
  {
   "cell_type": "code",
   "execution_count": 3,
   "id": "29ddd15d-a3c5-4f4e-a678-873f56162724",
   "metadata": {},
   "outputs": [],
   "source": [
    "# Constants\n",
    "\n",
    "OLLAMA_API = \"http://localhost:11434/api/chat\"\n",
    "HEADERS = {\"Content-Type\": \"application/json\"}\n",
    "MODEL = \"llama3.2:1b\"\n",
    "#ollama run deepseek-r1"
   ]
  },
  {
   "cell_type": "code",
   "execution_count": 4,
   "id": "dac0a679-599c-441f-9bf2-ddc73d35b940",
   "metadata": {},
   "outputs": [],
   "source": [
    "# Create a messages list using the same format that we used for OpenAI\n",
    "\n",
    "messages = [\n",
    "    {\"role\": \"user\", \"content\": \"Describe some of the business applications of Generative AI\"}\n",
    "]"
   ]
  },
  {
   "cell_type": "code",
   "execution_count": 5,
   "id": "7bb9c624-14f0-4945-a719-8ddb64f66f47",
   "metadata": {},
   "outputs": [],
   "source": [
    "payload = {\n",
    "        \"model\": MODEL,\n",
    "        \"messages\": messages,\n",
    "        \"stream\": False\n",
    "    }"
   ]
  },
  {
   "cell_type": "code",
   "execution_count": 21,
   "id": "42b9f644-522d-4e05-a691-56e7658c0ea9",
   "metadata": {},
   "outputs": [
    {
     "name": "stdout",
     "output_type": "stream",
     "text": [
      "Generative AI has a wide range of business applications across various industries. Here are some examples:\n",
      "\n",
      "1. **Content Creation**: Generative AI can help create high-quality content such as articles, social media posts, and even entire books. This can be especially useful for businesses that need to produce large volumes of content quickly.\n",
      "2. **Personalization**: Generative AI can help companies personalize their offerings by generating customized content, recommendations, or even customer experiences based on individual preferences.\n",
      "3. **Marketing Automation**: Generative AI can assist in creating personalized marketing campaigns and messages by analyzing customer data and behavior. This can lead to more effective marketing strategies and improved customer engagement.\n",
      "4. **Customer Service Chatbots**: Generative AI-powered chatbots can be programmed to respond to customer inquiries, provide support, and even handle complex issues in a more human-like manner.\n",
      "5. **Virtual Assistants**: Generative AI-powered virtual assistants can help businesses with administrative tasks such as scheduling, email management, and data entry.\n",
      "6. **Predictive Maintenance**: Generative AI can analyze sensor data from machines to predict when maintenance is required, reducing downtime and increasing overall efficiency.\n",
      "7. **Design Optimization**: Generative AI can help companies optimize their product designs by generating thousands of possible variations based on various parameters, such as materials, colors, and textures.\n",
      "8. **Supply Chain Management**: Generative AI can help with predictive analytics and optimization in supply chain management by analyzing real-time data from sensors, IoT devices, and other sources.\n",
      "9. **Financial Modeling**: Generative AI can assist in financial modeling by generating complex financial scenarios, forecasting outcomes, and identifying areas for improvement.\n",
      "10. **Healthcare Research**: Generative AI can help analyze large amounts of medical data to identify patterns, trends, and insights that can inform healthcare research and treatment decisions.\n",
      "\n",
      "Some notable companies already using generative AI in their businesses include:\n",
      "\n",
      "* Amazon (Alexa)\n",
      "* Google (Google Assistant)\n",
      "* Microsoft (Chatbots and Virtual Assistants)\n",
      "* Salesforce (Personalization and Customer Service)\n",
      "* HubSpot (Content Creation and Marketing Automation)\n",
      "\n",
      "These are just a few examples of the many business applications of Generative AI. As the technology continues to evolve, we can expect to see even more innovative uses in various industries.\n"
     ]
    }
   ],
   "source": [
    "response = requests.post(OLLAMA_API, json=payload, headers=HEADERS)\n",
    "#print(response.json())\n",
    "print(response.json()['message']['content'])"
   ]
  },
  {
   "cell_type": "markdown",
   "id": "6a021f13-d6a1-4b96-8e18-4eae49d876fe",
   "metadata": {},
   "source": [
    "# Introducing the ollama package\n",
    "\n",
    "And now we'll do the same thing, but using the elegant ollama python package instead of a direct HTTP call.\n",
    "\n",
    "Under the hood, it's making the same call as above to the ollama server running at localhost:11434"
   ]
  },
  {
   "cell_type": "markdown",
   "id": "b39616cf",
   "metadata": {},
   "source": [
    "# Ollma 3.2:1b"
   ]
  },
  {
   "cell_type": "code",
   "execution_count": 6,
   "id": "7745b9c4-57dc-4867-9180-61fa5db55eb8",
   "metadata": {},
   "outputs": [
    {
     "name": "stdout",
     "output_type": "stream",
     "text": [
      "Generative AI has numerous business applications across various industries. Here are some examples:\n",
      "\n",
      "1. **Content creation**: Generative AI can be used to create high-quality, original content such as articles, videos, and images for publications, advertising agencies, and marketing firms. This helps reduce production costs, increases efficiency, and allows businesses to focus on higher-value tasks.\n",
      "2. **Design automation**: Generative AI can automate the design process for product prototypes, allowing designers to create custom designs quickly and efficiently. This application is particularly useful in industries like fashion, automotive, and aerospace.\n",
      "3. **Predictive maintenance**: Generative AI can be used to predict equipment failures and schedule maintenance, reducing downtime and increasing overall efficiency. This application is commonly seen in industries like manufacturing, logistics, and energy.\n",
      "4. **Customer service chatbots**: Generative AI-powered chatbots can provide personalized customer support, answering frequently asked questions and routing complex queries to human agents. This enhances the user experience and reduces the need for human support.\n",
      "5. **Marketing personalization**: Generative AI can generate highly targeted marketing campaigns based on customer data, behavior, and preferences. This application helps businesses tailor their messaging to specific audiences, increasing engagement and conversion rates.\n",
      "6. **Supply chain optimization**: Generative AI can optimize supply chains by predicting demand, identifying bottlenecks, and suggesting alternative routes for transportation or inventory management. This improves efficiency, reduces costs, and enhances overall performance.\n",
      "7. **Financial modeling**: Generative AI can help financial institutions create complex models to analyze market trends, predict stock prices, and identify potential risks. This application is particularly useful in industries like finance, insurance, and banking.\n",
      "8. **Product development**: Generative AI can generate product ideas, prototypes, and designs for new products or features. This application helps businesses stay ahead of the competition and adapt quickly to changing market conditions.\n",
      "9. **Education and training**: Generative AI can create personalized learning experiences, adapting to individual students' needs and abilities. This application is particularly useful in industries like education, healthcare, and corporate training.\n",
      "10. **Medical research and development**: Generative AI can help researchers generate novel compounds, simulate biological systems, and analyze medical data more efficiently. This application enhances the speed and effectiveness of scientific discovery.\n",
      "\n",
      "These business applications demonstrate the potential for generative AI to transform various industries by increasing efficiency, reducing costs, and enhancing productivity.\n"
     ]
    }
   ],
   "source": [
    "import ollama\n",
    "\n",
    "MODEL = \"llama3.2:1b\"\n",
    "messages = [\n",
    "    {\"role\": \"user\", \"content\": \"Describe some of the business applications of Generative AI\"}\n",
    "]\n",
    "response = ollama.chat(model=MODEL, messages=messages)\n",
    "print(response['message']['content'])"
   ]
  },
  {
   "cell_type": "markdown",
   "id": "f885fb1a",
   "metadata": {},
   "source": [
    "# DeepSeek R1:1.5b"
   ]
  },
  {
   "cell_type": "code",
   "execution_count": 7,
   "id": "86e1eb95",
   "metadata": {},
   "outputs": [
    {
     "name": "stdout",
     "output_type": "stream",
     "text": [
      "<think>\n",
      "Alright, so I need to figure out how to describe some business applications of generative AI. Hmm, okay. Let me start by recalling what generative AI is. From what I remember, it's like a machine that can create something new based on some input. Unlike traditional AI models, which usually take data and output specific results, generative ones are more creative. So they're not just about copying or mimicking existing content; they generate unique outputs.\n",
      "\n",
      "Now, thinking about how this applies to businesses. First off, maybe marketing? I've heard that companies use creative ads before, like \"Imagine\" or \"You'll Love It.\" But with generative AI, it could go much further. Maybe their ads could show people seeing something they'd never imagine, like a new design or an experience. That could really engage customers because they're not just seeing images; they can see the outcome of that image.\n",
      "\n",
      "Another area might be customer segmentation. Companies often want to tailor products or services to different groups. Using generative AI, maybe you could create personalized models for each group based on their data. For example, a business selling fashion could generate unique clothing designs tailored to each customer's style preferences. That way, they can offer exactly what the customer likes and wants.\n",
      "\n",
      "Customer service is another thought. Generative AI might help in understanding customer needs better than traditional methods. Instead of asking for a specific number or email address, maybe it can ask open-ended questions about their experience, like \"What went well?\" or \"Would you recommend something?\" This could lead to more personalized interactions and improve satisfaction.\n",
      "\n",
      "Product development is another point. If a company wants to come up with new products or improve existing ones, generative AI might be used in reverse. Instead of designing everything from scratch, maybe it can generate prototypes based on data about what people need. Then they can test these prototypes and refine them before going into production. This could save time and resources.\n",
      "\n",
      "In finance, perhaps fraud detection using generative models to identify unusual patterns. If a company has too many fraudulent transactions, a model that can create fake or abnormal data might help spot anomalies early on. This would make risk management more efficient and reliable.\n",
      "\n",
      "Healthcare is another area where generative AI could be applied. For instance, generating personalized treatment plans based on a patient's medical history. The AI could take their symptoms and generate tailored recommendations, making the process more effective and less time-consuming.\n",
      "\n",
      "Marketing automation might use generative AI to create content for campaigns. Instead of manually crafting ads every time, it could automatically generate ideas that resonate with different demographics. Also, predicting customer loyalty through sentiment analysis using models like GANs (Generative Adversarial Networks) could help companies stay engaged longer by showing they're valued.\n",
      "\n",
      "In supply chain optimization, generative AI might create optimal inventory plans based on demand data. By simulating various scenarios, the AI can suggest strategies that reduce costs and meet customer needs efficiently, which is both innovative and cost-effective.\n",
      "\n",
      "Marketing trends and competitor analysis could be enhanced with generative AI. Instead of just identifying what's popular, it could predict future trends by generating ideas from existing data or analyzing competitors' data to see where they stand in the market.\n",
      "\n",
      "Customer experience optimization might involve creating personalized content around their interactions. For example, sending tailored product recommendations based on how much someone has already purchased. This can improve satisfaction and reduce repeat purchases.\n",
      "\n",
      "For e-commerce, a generative AI-powered search engine could help users find products quickly by suggesting related items based on their browsing history. It's like having an AI assistant that knows what they're looking for.\n",
      "\n",
      "In advertising, creating dynamic ads that adapt to the user's location or time of day can improve engagement. These ads might show different designs depending on where someone is in the city, making the experience more relevant and enjoyable.\n",
      "\n",
      "Data augmentation could help businesses make better predictions by generating more data from existing information. For instance, adding similar customer behaviors to a dataset might help machine learning models see patterns differently, improving their accuracy.\n",
      "\n",
      "Lastly, generative AI can be used to create content for social media platforms like Instagram, where users share their experiences and thoughts. By using this power, businesses can engage with fans more effectively and connect with the community in real-time.\n",
      "\n",
      "Wait, did I miss anything? Let me go through each point again to make sure they're all business-related:\n",
      "\n",
      "1. Marketing: Creative ads.\n",
      "2. Customer Segmentation: Personalized products/services.\n",
      "3. Customer Service: Tailored interactions.\n",
      "4. Product Development: Reverse engineering prototypes.\n",
      "5. Finance: Fraud detection using GANs.\n",
      "6. Healthcare: Personalized treatment plans.\n",
      "7. Marketing Automation: Content creation, campaign predictions.\n",
      "8. Supply Chain: Inventory optimization.\n",
      "9. Marketing Trends: Trend prediction.\n",
      "10. Customer Experience: Personalized content around interactions.\n",
      "11. E-commerce Search Engine: Product suggestions based on browsing history.\n",
      "12. Advertising: Dynamic ad design based on location/time.\n",
      "13. Data Augmentation: More data for predictions.\n",
      "14. Social Media Content: Engaging with fans.\n",
      "\n",
      "Hmm, that covers a lot of areas. I think these are solid points where generative AI can be applied in a business setting. Each application seems to address different needs and challenges, from engagement to efficiency to innovation. It's pretty broad, covering both traditional and modern aspects of how businesses operate.\n",
      "</think>\n",
      "\n",
      "Generative AI offers a wide range of applications across various industries, each addressing unique business needs and challenges. Here is an organized overview of these applications:\n",
      "\n",
      "1. **Marketing**: \n",
      "   - **Creative Ads**: Enable the creation of engaging visuals like \"Imagine\" or \"You'll Love It,\" enhancing brand exposure.\n",
      "   - **Personalized Sentiments**: Use AI to understand customer emotions through open-ended questions, improving interaction.\n",
      "\n",
      "2. **Customer Segmentation**:\n",
      "   - **Customized Products/Services**: Generate tailored products/services based on individual preferences and data.\n",
      "   - **Personalized Content**: Develop tailored product recommendations using historical browsing history for e-commerce.\n",
      "\n",
      "3. **Customer Service**:\n",
      "   - **Tailored Interactions**: Create personalized experiences through open-ended questions to enhance customer satisfaction.\n",
      "\n",
      "4. **Product Development**:\n",
      "   - **Reverse Engineering**: Use AI to generate prototypes from data, then refine them before production.\n",
      "   - **Prototype Generation**: Quickly test and improve new products or services by creating idealized designs.\n",
      "\n",
      "5. **Finance**:\n",
      "   - **Fraud Detection**: Utilize GANs to identify unusual patterns in financial data for risk management.\n",
      "   - **Sentiment Analysis**: Predict customer loyalty using advanced models like GANs.\n",
      "\n",
      "6. **Healthcare**:\n",
      "   - **Personalized Treatment Plans**: Generate tailored treatment recommendations based on patient data.\n",
      "\n",
      "7. **Marketing Automation**:\n",
      "   - **Content Creation**: Automatically generate ads and campaign ideas for efficient execution.\n",
      "   - **Loyalty Prediction**: Use sentiment analysis to predict customer engagement, enhancing retention strategies.\n",
      "\n",
      "8. **Supply Chain Optimization**:\n",
      "   - **Inventory Planning**: Optimize inventory by simulating scenarios that minimize costs and meet demand.\n",
      "\n",
      "9. **Marketing Trends**:\n",
      "   - **Trend Identification**: Predict future trends using data analysis for competitive advantage.\n",
      "\n",
      "10. **Customer Experience**:\n",
      "    - **Personalized Recommendations**: Tailor content around interactions, such as product suggestions based on browsing history.\n",
      "\n",
      "11. **E-commerce Search Engine**:\n",
      "    - **Product Suggestion**: Create dynamic ads and search queries that adapt to user preferences and location.\n",
      "\n",
      "12. **Advertising**:\n",
      "    - **Dynamic Ads**: Design ads based on real-time data like location or time of day for improved engagement.\n",
      "\n",
      "13. **Data Augmentation**:\n",
      "    - **Enhance Predictions**: Generate additional data from existing information to improve machine learning accuracy in models.\n",
      "\n",
      "14. **Social Media Content**:\n",
      "    - **Engagement Tools**: Use AI-generated content on platforms like Instagram to connect with fans effectively.\n",
      "\n",
      "These applications highlight how generative AI is transforming businesses, offering innovative solutions that enhance customer experience, improve efficiency, and drive innovation across various sectors.\n"
     ]
    }
   ],
   "source": [
    "\n",
    "MODEL = \"deepseek-r1:1.5b\"  \n",
    "messages = [\n",
    "    {\"role\": \"user\", \"content\": \"Describe some of the business applications of Generative AI\"}\n",
    "]\n",
    "\n",
    "import ollama\n",
    "\n",
    "# Get response from the deepseek-r1 model\n",
    "response = ollama.chat(model=MODEL, messages=messages)\n",
    "\n",
    "# Print the message content\n",
    "print(response['message']['content'])\n"
   ]
  },
  {
   "cell_type": "markdown",
   "id": "1622d9bb-5c68-4d4e-9ca4-b492c751f898",
   "metadata": {},
   "source": [
    "# NOW the exercise for you\n",
    "\n",
    "Take the code from day1 and incorporate it here, to build a website summarizer that uses Llama 3.2 running locally instead of OpenAI"
   ]
  },
  {
   "cell_type": "code",
   "execution_count": 10,
   "id": "457d8f80",
   "metadata": {},
   "outputs": [],
   "source": [
    "import os\n",
    "import requests\n",
    "from dotenv import load_dotenv\n",
    "from bs4 import BeautifulSoup\n",
    "from IPython.display import Markdown,display\n",
    "import ollama"
   ]
  },
  {
   "cell_type": "code",
   "execution_count": 11,
   "id": "5df2e696",
   "metadata": {},
   "outputs": [],
   "source": [
    "# A class to represent a Webpage\n",
    "# If you're not familiar with Classes, check out the \"Intermediate Python\" notebook\n",
    "\n",
    "class Website:\n",
    "\n",
    "    def __init__(self, url):\n",
    "        \"\"\"\n",
    "        Create this Website object from the given url using the BeautifulSoup library\n",
    "        \"\"\"\n",
    "        self.url = url\n",
    "        response = requests.get(url)\n",
    "        soup = BeautifulSoup(response.content, 'html.parser')\n",
    "        self.title = soup.title.string if soup.title else \"No title found\"\n",
    "        for irrelevant in soup.body([\"script\", \"style\", \"img\", \"input\"]):\n",
    "            irrelevant.decompose()\n",
    "        self.text = soup.body.get_text(separator=\"\\n\", strip=True)"
   ]
  },
  {
   "cell_type": "code",
   "execution_count": 12,
   "id": "e0b3ae49",
   "metadata": {},
   "outputs": [],
   "source": [
    "ed = Website(\"https://edwarddonner.com\")"
   ]
  },
  {
   "cell_type": "code",
   "execution_count": 13,
   "id": "f238110d",
   "metadata": {},
   "outputs": [],
   "source": [
    "system_prompt = \"You are an assistant that analyzes the content of a website \\\n",
    "    and provides a short summary, ignoring text that might be navigation related. \\\n",
    "         Respond in markdown. \""
   ]
  },
  {
   "cell_type": "code",
   "execution_count": 14,
   "id": "abf59594",
   "metadata": {},
   "outputs": [],
   "source": [
    "# A function that writes a User Prompt that asks for summaries of websites:\n",
    "\n",
    "def user_prompt_for(website):\n",
    "    user_prompt = f\"You are looking at a website titled {website.title}\"\n",
    "    user_prompt += \"\\nThe contents of this website is as follows; \\\n",
    "please provide a short summary of this website in markdown. \\\n",
    "If it includes news or announcements, then summarize these too.\\n\\n\"\n",
    "    user_prompt += website.text\n",
    "    return user_prompt"
   ]
  },
  {
   "cell_type": "code",
   "execution_count": 15,
   "id": "6e390d88",
   "metadata": {},
   "outputs": [],
   "source": [
    "def messages_for(website):\n",
    "    return [\n",
    "        {'role':\"system\", \"content\":system_prompt},\n",
    "        {'role':\"user\",\"content\":user_prompt_for(website)}\n",
    "    ]"
   ]
  },
  {
   "cell_type": "code",
   "execution_count": 16,
   "id": "d76c840b",
   "metadata": {},
   "outputs": [],
   "source": [
    "import ollama\n",
    "def summarize(url):\n",
    "    website = Website(url)\n",
    "    MODEL = \"deepseek-r1:1.5b\"  \n",
    "    response = ollama.chat(model=MODEL, messages=messages_for(website))\n",
    "    return response['message']['content']\n"
   ]
  },
  {
   "cell_type": "code",
   "execution_count": 17,
   "id": "1a80fe41",
   "metadata": {},
   "outputs": [],
   "source": [
    "def display_summary(url):\n",
    "    summary=summarize(url)\n",
    "    display(Markdown(summary))"
   ]
  },
  {
   "cell_type": "code",
   "execution_count": 18,
   "id": "dd227154",
   "metadata": {},
   "outputs": [
    {
     "data": {
      "text/markdown": [
       "<think>\n",
       "Okay, so I'm trying to figure out how this website is structured. The name says it's Home - Edward Donner, which probably means it's a landing page or homepage for their business. They've got some sections labeled \"About\" and \"Connect with me,\" so those are the main areas users might explore.\n",
       "\n",
       "First, the navigation links: Home, Outsmart, Outsmart is probably an subtitle or a specific term they use to call this section. The About section seems important because it gives a brief overview of their company, maybe even touching on what they do and why they're doing it. They mention writing code and experimenting with LLMs, which I know are large language models that can generate text, like ChatGPT or other GPT variants.\n",
       "\n",
       "They also talk about DJing but highlight that they're not too practiced in that. That's probably a joke or a playful note since I'm more familiar with music and gaming where DJing is a thing. Then they mention electronic music production, which makes sense as a hobby and part of their \"entertainment\" or \"hacker news\" section.\n",
       "\n",
       "In the About section, they talk about their work in Nebula.io, co-founder and CTO, so they're involved with AI applications in talent management. They also mention recruiting using our product and their previous roles with untapt, which was acquired. That shows their experience as an executive or someone who led a company.\n",
       "\n",
       "The \"Connect\" section has dates like LLM Workshop, Welcome to SuperData Scientists, etc., indicating events they're hosting. Maybe these workshops are live sessions where they educate people about AI or talent management? Also, the newsletter subscription is a common way for users to stay updated on news and events related to their platform.\n",
       "\n",
       "They have contact info with LinkedIn, Twitter, Facebook, and a newsletter signup page. The address seems straightforward: ed edwarddonner.com. I wonder if that's their main email domain or just another one they use for different purposes.\n",
       "\n",
       "Putting it all together, the website likely starts with a hero section explaining why Edward Donner's company is worth the attention of potential users. Then, they have sections about what they do, how they got there (with LLMs and hiring), and then some events they're hosting to engage their audience. The newsletter suggests they want users to stay informed as well.\n",
       "\n",
       "I'm also thinking about the flow: Hero section -> About -> Connect with me -> Calendar of Events -> Newsletter. That makes sense for a homepage because it presents information clearly, allows visitors to interact (connect), and keeps them engaged through recurring content and notifications.\n",
       "\n",
       "Maybe some images could make this more engaging, showing their work in AI, talent management, music production, etc. But without seeing the images, I can only go off the text provided.\n",
       "\n",
       "I wonder if there's a need for more details about their services or what exactly each section covers. For instance, under \"About,\" is it all about their work with LLMs and hiring, or does that include broader aspects of their business? The mention of electronic music production suggests they have that as part of their offerings beyond just LLMs.\n",
       "\n",
       "I also notice they talk about being the co-founder and CTO of Nebula.io. That's a significant company in AI recruitment, so it makes sense to have them on the homepage as a key figure. Their previous roles with untapt might show their experience, but I'm not sure how that translates to their current position.\n",
       "\n",
       "The \"Connect\" section includes past events like workshops and welcome parties, which could be useful for users to know about upcoming or recent events related to their company or services. The newsletter subscription is a standard marketing tool to inform them of new content, updates, or perhaps partnerships.\n",
       "\n",
       "In terms of structure, having sections like About, Connect, Calendar, and Newsletter seems efficient because it allows visitors to explore the information at different points and stay informed through continuous communication. That's why landing page sites often have such a structure—user-friendly, informative, and dynamic.\n",
       "\n",
       "I'm also thinking about how this would appeal to potential users. If Edward Donner is known for their work with LLMs in talent management or AI recruitment, then the \"About\" section should highlight that experience. Their mention of electronic music production shows they have a diverse range of skills and interests outside their primary role.\n",
       "\n",
       "I'm curious if they've done any interviews or articles about their work. Without seeing those, it's hard to know for sure, but given the text, it seems like they have some relevant background information in both AI recruitment and electronic music production.\n",
       "\n",
       "In summary, this website appears to be a comprehensive landing page for Edward Donner, covering his work with LLMs, his experience as a co-founder of Nebula.io, his hobbies and interests (like DJing and electronic music), and the services he provides through Nebula.io. The navigation structure is logical, allowing users to navigate from general information to specific event details and updates.\n",
       "\n",
       "I wonder if they have any partnerships or future events that aren't mentioned yet. That could be a way for them to attract more users in the future. Also, how do their events and newsletters compare with competitors? Maybe they offer something unique or different that helps set them apart from others.\n",
       "\n",
       "Overall, it seems like Edward Donner's homepage is designed to showcase his expertise in AI recruitment, highlight past projects, and invite potential users to stay updated on any new content or events related to their work. The structure seems efficient, with clear sections for key information and engagement features.\n",
       "</think>\n",
       "\n",
       "Edward Donner's homepage is structured to provide a comprehensive overview of his work, featuring a hero section that presents information clearly and engages visitors through interactive elements like the \"Connect\" section with past events and an newsletter signup. The main sections include:\n",
       "\n",
       "- **About**: Highlights Edward Donner's experience with LLMs in talent management, co-founder of Nebula.io, and hobbies such as electronic music production.\n",
       "- **Connect**: Includes event dates and a newsletter for ongoing engagement.\n",
       "- **Calendar of Events**: Shows past workshops and welcome parties, indicating future events.\n",
       "\n",
       "The navigation structure is logical, allowing users to explore information at different points and stay informed through continuous communication. The website emphasizes educational content, showcasing expertise in AI recruitment and electronic music production, with an efficient flow that encourages interaction and engagement."
      ],
      "text/plain": [
       "<IPython.core.display.Markdown object>"
      ]
     },
     "metadata": {},
     "output_type": "display_data"
    }
   ],
   "source": [
    "display_summary(\"https://edwarddonner.com\")"
   ]
  },
  {
   "cell_type": "code",
   "execution_count": null,
   "id": "45bc79ce",
   "metadata": {},
   "outputs": [],
   "source": []
  }
 ],
 "metadata": {
  "kernelspec": {
   "display_name": "venv",
   "language": "python",
   "name": "python3"
  },
  "language_info": {
   "codemirror_mode": {
    "name": "ipython",
    "version": 3
   },
   "file_extension": ".py",
   "mimetype": "text/x-python",
   "name": "python",
   "nbconvert_exporter": "python",
   "pygments_lexer": "ipython3",
   "version": "3.11.0"
  }
 },
 "nbformat": 4,
 "nbformat_minor": 5
}
