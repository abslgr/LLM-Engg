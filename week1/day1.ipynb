{
 "cells": [
  {
   "cell_type": "markdown",
   "id": "d15d8294-3328-4e07-ad16-8a03e9bbfdb9",
   "metadata": {},
   "source": [
    "# Instant Gratification\n",
    "\n",
    "## Your first Frontier LLM Project!\n",
    "\n",
    "Let's build a useful LLM solution - in a matter of minutes.\n",
    "\n",
    "By the end of this course, you will have built an autonomous Agentic AI solution with 7 agents that collaborate to solve a business problem. All in good time! We will start with something smaller...\n",
    "\n",
    "Our goal is to code a new kind of Web Browser. Give it a URL, and it will respond with a summary. The Reader's Digest of the internet!!\n",
    "\n",
    "Before starting, you should have completed the setup for [PC](../SETUP-PC.md) or [Mac](../SETUP-mac.md) and you hopefully launched this jupyter lab from within the project root directory, with your environment activated.\n",
    "\n",
    "## If you're new to Jupyter Lab\n",
    "\n",
    "Welcome to the wonderful world of Data Science experimentation! Once you've used Jupyter Lab, you'll wonder how you ever lived without it. Simply click in each \"cell\" with code in it, such as the cell immediately below this text, and hit Shift+Return to execute that cell. As you wish, you can add a cell with the + button in the toolbar, and print values of variables, or try out variations.  \n",
    "\n",
    "I've written a notebook called [Guide to Jupyter](Guide%20to%20Jupyter.ipynb) to help you get more familiar with Jupyter Labs, including adding Markdown comments, using `!` to run shell commands, and `tqdm` to show progress.\n",
    "\n",
    "If you prefer to work in IDEs like VSCode or Pycharm, they both work great with these lab notebooks too.  \n",
    "\n",
    "## If you'd like to brush up your Python\n",
    "\n",
    "I've added a notebook called [Intermediate Python](Intermediate%20Python.ipynb) to get you up to speed. But you should give it a miss if you already have a good idea what this code does:    \n",
    "`yield from {book.get(\"author\") for book in books if book.get(\"author\")}`\n",
    "\n",
    "## I am here to help\n",
    "\n",
    "If you have any problems at all, please do reach out.  \n",
    "I'm available through the platform, or at ed@edwarddonner.com, or at https://www.linkedin.com/in/eddonner/ if you'd like to connect (and I love connecting!)\n",
    "\n",
    "## More troubleshooting\n",
    "\n",
    "Please see the [troubleshooting](troubleshooting.ipynb) notebook in this folder to diagnose and fix common problems. At the very end of it is a diagnostics script with some useful debug info.\n",
    "\n",
    "## If this is old hat!\n",
    "\n",
    "If you're already comfortable with today's material, please hang in there; you can move swiftly through the first few labs - we will get much more in depth as the weeks progress.\n",
    "\n",
    "<table style=\"margin: 0; text-align: left;\">\n",
    "    <tr>\n",
    "        <td style=\"width: 150px; height: 150px; vertical-align: middle;\">\n",
    "            <img src=\"../important.jpg\" width=\"150\" height=\"150\" style=\"display: block;\" />\n",
    "        </td>\n",
    "        <td>\n",
    "            <h2 style=\"color:#900;\">Please read - important note</h2>\n",
    "            <span style=\"color:#900;\">The way I collaborate with you may be different to other courses you've taken. I prefer not to type code while you watch. Rather, I execute Jupyter Labs, like this, and give you an intuition for what's going on. My suggestion is that you do this with me, either at the same time, or (perhaps better) right afterwards. Add print statements to understand what's going on, and then come up with your own variations. If you have a Github account, use this to showcase your variations. Not only is this essential practice, but it demonstrates your skills to others, including perhaps future clients or employers...</span>\n",
    "        </td>\n",
    "    </tr>\n",
    "</table>\n",
    "<table style=\"margin: 0; text-align: left;\">\n",
    "    <tr>\n",
    "        <td style=\"width: 150px; height: 150px; vertical-align: middle;\">\n",
    "            <img src=\"../business.jpg\" width=\"150\" height=\"150\" style=\"display: block;\" />\n",
    "        </td>\n",
    "        <td>\n",
    "            <h2 style=\"color:#181;\">Business value of these exercises</h2>\n",
    "            <span style=\"color:#181;\">A final thought. While I've designed these notebooks to be educational, I've also tried to make them enjoyable. We'll do fun things like have LLMs tell jokes and argue with each other. But fundamentally, my goal is to teach skills you can apply in business. I'll explain business implications as we go, and it's worth keeping this in mind: as you build experience with models and techniques, think of ways you could put this into action at work today. Please do contact me if you'd like to discuss more or if you have ideas to bounce off me.</span>\n",
    "        </td>\n",
    "    </tr>\n",
    "</table>"
   ]
  },
  {
   "cell_type": "code",
   "execution_count": 1,
   "id": "4e2a9393-7767-488e-a8bf-27c12dca35bd",
   "metadata": {},
   "outputs": [],
   "source": [
    "# imports\n",
    "\n",
    "import os\n",
    "import requests\n",
    "from dotenv import load_dotenv\n",
    "from bs4 import BeautifulSoup\n",
    "from IPython.display import Markdown, display\n",
    "from openai import OpenAI\n",
    "\n",
    "# If you get an error running this cell, then please head over to the troubleshooting notebook!"
   ]
  },
  {
   "cell_type": "code",
   "execution_count": 21,
   "id": "549eca84",
   "metadata": {},
   "outputs": [],
   "source": [
    "import os\n",
    "import requests\n",
    "from dotenv import load_dotenv\n",
    "from bs4 import BeautifulSoup\n",
    "from IPython.display import Markdown, display\n",
    "from openai import OpenAI"
   ]
  },
  {
   "cell_type": "markdown",
   "id": "6900b2a8-6384-4316-8aaa-5e519fca4254",
   "metadata": {},
   "source": [
    "# Connecting to OpenAI\n",
    "\n",
    "The next cell is where we load in the environment variables in your `.env` file and connect to OpenAI.\n",
    "\n",
    "## Troubleshooting if you have problems:\n",
    "\n",
    "Head over to the [troubleshooting](troubleshooting.ipynb) notebook in this folder for step by step code to identify the root cause and fix it!\n",
    "\n",
    "If you make a change, try restarting the \"Kernel\" (the python process sitting behind this notebook) by Kernel menu >> Restart Kernel and Clear Outputs of All Cells. Then try this notebook again, starting at the top.\n",
    "\n",
    "Or, contact me! Message me or email ed@edwarddonner.com and we will get this to work.\n",
    "\n",
    "Any concerns about API costs? See my notes in the README - costs should be minimal, and you can control it at every point. You can also use Ollama as a free alternative, which we discuss during Day 2."
   ]
  },
  {
   "cell_type": "code",
   "execution_count": 2,
   "id": "7b87cadb-d513-4303-baee-a37b6f938e4d",
   "metadata": {},
   "outputs": [
    {
     "name": "stdout",
     "output_type": "stream",
     "text": [
      "API key found and looks good so far!\n"
     ]
    }
   ],
   "source": [
    "# Load environment variables in a file called .env\n",
    "\n",
    "load_dotenv(dotenv_path='C:\\projects\\llm_engineering\\.env')\n",
    "api_key = os.getenv('OPENAI_API_KEY')\n",
    "\n",
    "# Check the key\n",
    "\n",
    "if not api_key:\n",
    "    print(\"No API key was found - please head over to the troubleshooting notebook in this folder to identify & fix!\")\n",
    "elif not api_key.startswith(\"sk-proj-\"):\n",
    "    print(\"An API key was found, but it doesn't start sk-proj-; please check you're using the right key - see troubleshooting notebook\")\n",
    "elif api_key.strip() != api_key:\n",
    "    print(\"An API key was found, but it looks like it might have space or tab characters at the start or end - please remove them - see troubleshooting notebook\")\n",
    "else:\n",
    "    print(\"API key found and looks good so far!\")\n"
   ]
  },
  {
   "cell_type": "code",
   "execution_count": null,
   "id": "98b68d72",
   "metadata": {},
   "outputs": [],
   "source": [
    "load_dotenv(dotenv_path='C:\\projects\\llm_engineering\\.env')\n",
    "api_key=os.getenv(\"OPENAI_API_KEY\")"
   ]
  },
  {
   "cell_type": "code",
   "execution_count": 3,
   "id": "019974d9-f3ad-4a8a-b5f9-0a3719aea2d3",
   "metadata": {},
   "outputs": [],
   "source": [
    "openai = OpenAI()\n",
    "\n",
    "# If this doesn't work, try Kernel menu >> Restart Kernel and Clear Outputs Of All Cells, then run the cells from the top of this notebook down.\n",
    "# If it STILL doesn't work (horrors!) then please see the troubleshooting notebook, or try the below line instead:\n",
    "# openai = OpenAI(api_key=\"your-key-here-starting-sk-proj-\")"
   ]
  },
  {
   "cell_type": "code",
   "execution_count": 4,
   "id": "c5e793b2-6775-426a-a139-4848291d0463",
   "metadata": {},
   "outputs": [],
   "source": [
    "# A class to represent a Webpage\n",
    "# If you're not familiar with Classes, check out the \"Intermediate Python\" notebook\n",
    "\n",
    "class Website:\n",
    "\n",
    "    def __init__(self, url):\n",
    "        \"\"\"\n",
    "        Create this Website object from the given url using the BeautifulSoup library\n",
    "        \"\"\"\n",
    "        self.url = url\n",
    "        response = requests.get(url)\n",
    "        soup = BeautifulSoup(response.content, 'html.parser')\n",
    "        self.title = soup.title.string if soup.title else \"No title found\"\n",
    "        for irrelevant in soup.body([\"script\", \"style\", \"img\", \"input\"]):\n",
    "            irrelevant.decompose()\n",
    "        self.text = soup.body.get_text(separator=\"\\n\", strip=True)"
   ]
  },
  {
   "cell_type": "code",
   "execution_count": 5,
   "id": "2ef960cf-6dc2-4cda-afb3-b38be12f4c97",
   "metadata": {},
   "outputs": [
    {
     "name": "stdout",
     "output_type": "stream",
     "text": [
      "Home - Edward Donner\n",
      "Home\n",
      "Outsmart\n",
      "An arena that pits LLMs against each other in a battle of diplomacy and deviousness\n",
      "About\n",
      "Posts\n",
      "Well, hi there.\n",
      "I’m Ed. I like writing code and experimenting with LLMs, and hopefully you’re here because you do too. I also enjoy DJing (but I’m badly out of practice), amateur electronic music production (\n",
      "very\n",
      "amateur) and losing myself in\n",
      "Hacker News\n",
      ", nodding my head sagely to things I only half understand.\n",
      "I’m the co-founder and CTO of\n",
      "Nebula.io\n",
      ". We’re applying AI to a field where it can make a massive, positive impact: helping people discover their potential and pursue their reason for being. Recruiters use our product today to source, understand, engage and manage talent. I’m previously the founder and CEO of AI startup untapt,\n",
      "acquired in 2021\n",
      ".\n",
      "We work with groundbreaking, proprietary LLMs verticalized for talent, we’ve\n",
      "patented\n",
      "our matching model, and our award-winning platform has happy customers and tons of press coverage.\n",
      "Connect\n",
      "with me for more!\n",
      "December 21, 2024\n",
      "Welcome, SuperDataScientists!\n",
      "November 13, 2024\n",
      "Mastering AI and LLM Engineering – Resources\n",
      "October 16, 2024\n",
      "From Software Engineer to AI Data Scientist – resources\n",
      "August 6, 2024\n",
      "Outsmart LLM Arena – a battle of diplomacy and deviousness\n",
      "Navigation\n",
      "Home\n",
      "Outsmart\n",
      "An arena that pits LLMs against each other in a battle of diplomacy and deviousness\n",
      "About\n",
      "Posts\n",
      "Get in touch\n",
      "ed [at] edwarddonner [dot] com\n",
      "www.edwarddonner.com\n",
      "Follow me\n",
      "LinkedIn\n",
      "Twitter\n",
      "Facebook\n",
      "Subscribe to newsletter\n",
      "Type your email…\n",
      "Subscribe\n"
     ]
    }
   ],
   "source": [
    "# Let's try one out. Change the website and add print statements to follow along.\n",
    "\n",
    "ed = Website(\"https://edwarddonner.com\")\n",
    "print(ed.title)\n",
    "print(ed.text)"
   ]
  },
  {
   "cell_type": "markdown",
   "id": "6a478a0c-2c53-48ff-869c-4d08199931e1",
   "metadata": {},
   "source": [
    "## Types of prompts\n",
    "\n",
    "You may know this already - but if not, you will get very familiar with it!\n",
    "\n",
    "Models like GPT4o have been trained to receive instructions in a particular way.\n",
    "\n",
    "They expect to receive:\n",
    "\n",
    "**A system prompt** that tells them what task they are performing and what tone they should use\n",
    "\n",
    "**A user prompt** -- the conversation starter that they should reply to"
   ]
  },
  {
   "cell_type": "code",
   "execution_count": 6,
   "id": "abdb8417-c5dc-44bc-9bee-2e059d162699",
   "metadata": {},
   "outputs": [],
   "source": [
    "# Define our system prompt - you can experiment with this later, changing the last sentence to 'Respond in markdown in Spanish.\"\n",
    "\n",
    "system_prompt = \"You are an assistant that analyzes the contents of a website \\\n",
    "and provides a short summary, ignoring text that might be navigation related. \\\n",
    "Respond in markdown.\""
   ]
  },
  {
   "cell_type": "code",
   "execution_count": null,
   "id": "5dbc75ce",
   "metadata": {},
   "outputs": [],
   "source": [
    "system_prompt = \"You are an assistant that analyzes the content of a website \\\n",
    "    and provides a short summary, ignoring text that might be navigation related. \\\n",
    "         Respond in markdown. \""
   ]
  },
  {
   "cell_type": "code",
   "execution_count": 7,
   "id": "f0275b1b-7cfe-4f9d-abfa-7650d378da0c",
   "metadata": {},
   "outputs": [],
   "source": [
    "# A function that writes a User Prompt that asks for summaries of websites:\n",
    "\n",
    "def user_prompt_for(website):\n",
    "    user_prompt = f\"You are looking at a website titled {website.title}\"\n",
    "    user_prompt += \"\\nThe contents of this website is as follows; \\\n",
    "please provide a short summary of this website in markdown. \\\n",
    "If it includes news or announcements, then summarize these too.\\n\\n\"\n",
    "    user_prompt += website.text\n",
    "    return user_prompt"
   ]
  },
  {
   "cell_type": "code",
   "execution_count": null,
   "id": "37b38645",
   "metadata": {},
   "outputs": [],
   "source": [
    "def user_prompt_for(website):\n",
    "    user_prompt=f'You are looking at a website titled {website.title}'\n",
    "    user_prompt+=\"\\nThe contents of this website is as follows; \\\n",
    "        please provide a short summary of of this website in markdown. \\\n",
    "            If it includes news or announcements, then summarize these too.\\n\"\n",
    "    user_prompt+=website.text\n",
    "    return user_prompt"
   ]
  },
  {
   "cell_type": "code",
   "execution_count": 8,
   "id": "26448ec4-5c00-4204-baec-7df91d11ff2e",
   "metadata": {},
   "outputs": [
    {
     "name": "stdout",
     "output_type": "stream",
     "text": [
      "You are looking at a website titled Home - Edward Donner\n",
      "The contents of this website is as follows; please provide a short summary of this website in markdown. If it includes news or announcements, then summarize these too.\n",
      "\n",
      "Home\n",
      "Outsmart\n",
      "An arena that pits LLMs against each other in a battle of diplomacy and deviousness\n",
      "About\n",
      "Posts\n",
      "Well, hi there.\n",
      "I’m Ed. I like writing code and experimenting with LLMs, and hopefully you’re here because you do too. I also enjoy DJing (but I’m badly out of practice), amateur electronic music production (\n",
      "very\n",
      "amateur) and losing myself in\n",
      "Hacker News\n",
      ", nodding my head sagely to things I only half understand.\n",
      "I’m the co-founder and CTO of\n",
      "Nebula.io\n",
      ". We’re applying AI to a field where it can make a massive, positive impact: helping people discover their potential and pursue their reason for being. Recruiters use our product today to source, understand, engage and manage talent. I’m previously the founder and CEO of AI startup untapt,\n",
      "acquired in 2021\n",
      ".\n",
      "We work with groundbreaking, proprietary LLMs verticalized for talent, we’ve\n",
      "patented\n",
      "our matching model, and our award-winning platform has happy customers and tons of press coverage.\n",
      "Connect\n",
      "with me for more!\n",
      "December 21, 2024\n",
      "Welcome, SuperDataScientists!\n",
      "November 13, 2024\n",
      "Mastering AI and LLM Engineering – Resources\n",
      "October 16, 2024\n",
      "From Software Engineer to AI Data Scientist – resources\n",
      "August 6, 2024\n",
      "Outsmart LLM Arena – a battle of diplomacy and deviousness\n",
      "Navigation\n",
      "Home\n",
      "Outsmart\n",
      "An arena that pits LLMs against each other in a battle of diplomacy and deviousness\n",
      "About\n",
      "Posts\n",
      "Get in touch\n",
      "ed [at] edwarddonner [dot] com\n",
      "www.edwarddonner.com\n",
      "Follow me\n",
      "LinkedIn\n",
      "Twitter\n",
      "Facebook\n",
      "Subscribe to newsletter\n",
      "Type your email…\n",
      "Subscribe\n"
     ]
    }
   ],
   "source": [
    "print(user_prompt_for(ed))"
   ]
  },
  {
   "cell_type": "markdown",
   "id": "ea211b5f-28e1-4a86-8e52-c0b7677cadcc",
   "metadata": {},
   "source": [
    "## Messages\n",
    "\n",
    "The API from OpenAI expects to receive messages in a particular structure.\n",
    "Many of the other APIs share this structure:\n",
    "\n",
    "```\n",
    "[\n",
    "    {\"role\": \"system\", \"content\": \"system message goes here\"},\n",
    "    {\"role\": \"user\", \"content\": \"user message goes here\"}\n",
    "]"
   ]
  },
  {
   "cell_type": "code",
   "execution_count": 11,
   "id": "0134dfa4-8299-48b5-b444-f2a8c3403c88",
   "metadata": {},
   "outputs": [],
   "source": [
    "# See how this function creates exactly the format above\n",
    "\n",
    "def messages_for(website):\n",
    "    return [\n",
    "        {\"role\": \"system\", \"content\": system_prompt},\n",
    "        {\"role\": \"user\", \"content\": user_prompt_for(website)}\n",
    "    ]"
   ]
  },
  {
   "cell_type": "code",
   "execution_count": 9,
   "id": "ec2d2a77",
   "metadata": {},
   "outputs": [],
   "source": [
    "def messages_for(website):\n",
    "    return [\n",
    "        {'role':\"system\", \"content\":system_prompt},\n",
    "        {'role':\"user\",\"content\":user_prompt_for(website)}\n",
    "    ]"
   ]
  },
  {
   "cell_type": "code",
   "execution_count": 10,
   "id": "36478464-39ee-485c-9f3f-6a4e458dbc9c",
   "metadata": {},
   "outputs": [
    {
     "data": {
      "text/plain": [
       "[{'role': 'system',\n",
       "  'content': 'You are an assistant that analyzes the contents of a website and provides a short summary, ignoring text that might be navigation related. Respond in markdown.'},\n",
       " {'role': 'user',\n",
       "  'content': 'You are looking at a website titled Home - Edward Donner\\nThe contents of this website is as follows; please provide a short summary of this website in markdown. If it includes news or announcements, then summarize these too.\\n\\nHome\\nOutsmart\\nAn arena that pits LLMs against each other in a battle of diplomacy and deviousness\\nAbout\\nPosts\\nWell, hi there.\\nI’m Ed. I like writing code and experimenting with LLMs, and hopefully you’re here because you do too. I also enjoy DJing (but I’m badly out of practice), amateur electronic music production (\\nvery\\namateur) and losing myself in\\nHacker News\\n, nodding my head sagely to things I only half understand.\\nI’m the co-founder and CTO of\\nNebula.io\\n. We’re applying AI to a field where it can make a massive, positive impact: helping people discover their potential and pursue their reason for being. Recruiters use our product today to source, understand, engage and manage talent. I’m previously the founder and CEO of AI startup untapt,\\nacquired in 2021\\n.\\nWe work with groundbreaking, proprietary LLMs verticalized for talent, we’ve\\npatented\\nour matching model, and our award-winning platform has happy customers and tons of press coverage.\\nConnect\\nwith me for more!\\nDecember 21, 2024\\nWelcome, SuperDataScientists!\\nNovember 13, 2024\\nMastering AI and LLM Engineering – Resources\\nOctober 16, 2024\\nFrom Software Engineer to AI Data Scientist – resources\\nAugust 6, 2024\\nOutsmart LLM Arena – a battle of diplomacy and deviousness\\nNavigation\\nHome\\nOutsmart\\nAn arena that pits LLMs against each other in a battle of diplomacy and deviousness\\nAbout\\nPosts\\nGet in touch\\ned [at] edwarddonner [dot] com\\nwww.edwarddonner.com\\nFollow me\\nLinkedIn\\nTwitter\\nFacebook\\nSubscribe to newsletter\\nType your email…\\nSubscribe'}]"
      ]
     },
     "execution_count": 10,
     "metadata": {},
     "output_type": "execute_result"
    }
   ],
   "source": [
    "# Try this out, and then try for a few more websites\n",
    "\n",
    "messages_for(ed)"
   ]
  },
  {
   "cell_type": "markdown",
   "id": "16f49d46-bf55-4c3e-928f-68fc0bf715b0",
   "metadata": {},
   "source": [
    "## Time to bring it together - the API for OpenAI is very simple!"
   ]
  },
  {
   "cell_type": "code",
   "execution_count": 13,
   "id": "905b9919-aba7-45b5-ae65-81b3d1d78e34",
   "metadata": {},
   "outputs": [],
   "source": [
    "# And now: call the OpenAI API. You will get very familiar with this!\n",
    "\n",
    "def summarize(url):\n",
    "    website = Website(url)\n",
    "    response = openai.chat.completions.create(\n",
    "        model = \"gpt-4o-mini\",\n",
    "        messages = messages_for(website)\n",
    "    )\n",
    "    return response.choices[0].message.content"
   ]
  },
  {
   "cell_type": "code",
   "execution_count": 14,
   "id": "d49c3ace",
   "metadata": {},
   "outputs": [],
   "source": [
    "def summarize(url):\n",
    "    website=Website(url)\n",
    "    response=openai.chat.completions.create(\n",
    "        model=\"gpt-4o-mini\",\n",
    "        messages=messages_for(website)\n",
    "    )\n",
    "    return response.choices[0].message.content"
   ]
  },
  {
   "cell_type": "code",
   "execution_count": 15,
   "id": "05e38d41-dfa4-4b20-9c96-c46ea75d9fb5",
   "metadata": {},
   "outputs": [
    {
     "data": {
      "text/plain": [
       "\"# Summary of Edward Donner's Website\\n\\nEdward Donner’s website serves as a platform for his interests in coding, LLM (Large Language Model) experimentation, and electronic music production. He introduces himself as a tech enthusiast and the co-founder and CTO of Nebula.io, a company focused on using AI to help individuals discover their potential. He has previously founded the AI startup untapt, which was acquired in 2021.\\n\\n## Recent Posts\\n- **December 21, 2024**: Welcome, SuperDataScientists!\\n- **November 13, 2024**: Mastering AI and LLM Engineering – Resources\\n- **October 16, 2024**: From Software Engineer to AI Data Scientist – Resources\\n- **August 6, 2024**: Outsmart LLM Arena – a battle of diplomacy and deviousness\\n\\nOverall, the site emphasizes Donner's professional background and his fascination with AI and LLM technologies.\""
      ]
     },
     "execution_count": 15,
     "metadata": {},
     "output_type": "execute_result"
    }
   ],
   "source": [
    "summarize(\"https://edwarddonner.com\")"
   ]
  },
  {
   "cell_type": "code",
   "execution_count": 15,
   "id": "3d926d59-450e-4609-92ba-2d6f244f1342",
   "metadata": {},
   "outputs": [],
   "source": [
    "# A function to display this nicely in the Jupyter output, using markdown\n",
    "\n",
    "def display_summary(url):\n",
    "    summary = summarize(url)\n",
    "    display(Markdown(summary))"
   ]
  },
  {
   "cell_type": "code",
   "execution_count": 16,
   "id": "eb6829cb",
   "metadata": {},
   "outputs": [],
   "source": [
    "def display_summary(url):\n",
    "    summary=summarize(url)\n",
    "    display(Markdown(summary))"
   ]
  },
  {
   "cell_type": "code",
   "execution_count": 17,
   "id": "3018853a-445f-41ff-9560-d925d1774b2f",
   "metadata": {},
   "outputs": [
    {
     "data": {
      "text/markdown": [
       "# Summary of Edward Donner's Website\n",
       "\n",
       "Edward Donner's website serves as a personal and professional platform showcasing his interests and contributions in the fields of AI and programming. He is the co-founder and CTO of Nebula.io, an AI-driven company focused on talent discovery. Previously, he founded untapt, which was acquired in 2021. The website reflects his passion for experimenting with large language models (LLMs) and includes a section titled \"Outsmart,\" which introduces an arena for LLMs to compete in diplomacy and strategy.\n",
       "\n",
       "## Key Announcements and Posts\n",
       "\n",
       "- **December 21, 2024**: Welcome message to the SuperDataScientists community.\n",
       "- **November 13, 2024**: Resources for mastering AI and LLM engineering.\n",
       "- **October 16, 2024**: Guidance for transitioning from a Software Engineer to an AI Data Scientist.\n",
       "- **August 6, 2024**: Introduction to the Outsmart LLM Arena for competitive AI interactions. \n",
       "\n",
       "Through these posts, Ed engages with individuals who share his interests in AI and programming, providing valuable insights and resources."
      ],
      "text/plain": [
       "<IPython.core.display.Markdown object>"
      ]
     },
     "metadata": {},
     "output_type": "display_data"
    }
   ],
   "source": [
    "display_summary(\"https://edwarddonner.com\")"
   ]
  },
  {
   "cell_type": "markdown",
   "id": "b3bcf6f4-adce-45e9-97ad-d9a5d7a3a624",
   "metadata": {},
   "source": [
    "# Let's try more websites\n",
    "\n",
    "Note that this will only work on websites that can be scraped using this simplistic approach.\n",
    "\n",
    "Websites that are rendered with Javascript, like React apps, won't show up. See the community-contributions folder for a Selenium implementation that gets around this. You'll need to read up on installing Selenium (ask ChatGPT!)\n",
    "\n",
    "Also Websites protected with CloudFront (and similar) may give 403 errors - many thanks Andy J for pointing this out.\n",
    "\n",
    "But many websites will work just fine!"
   ]
  },
  {
   "cell_type": "code",
   "execution_count": 18,
   "id": "45d83403-a24c-44b5-84ac-961449b4008f",
   "metadata": {},
   "outputs": [
    {
     "data": {
      "text/markdown": [
       "# CNN Website Summary\n",
       "\n",
       "The CNN website offers a wide array of news coverage across various categories including US, World, Politics, Business, Health, and Entertainment, among others. The site features breaking news articles and live updates covering significant global events and topics such as the Ukraine-Russia War and the Israel-Hamas War.\n",
       "\n",
       "### Recent Key Highlights\n",
       "- **Tibet Earthquake:** More than 100 people have died due to a powerful quake in Tibet, with CCTV capturing the moment of the disaster.\n",
       "- **Political Developments:** Rudy Giuliani was held in contempt in a case involving defamation against Georgia election workers. There are also fresh updates regarding the ongoing Trump legal matters and his continuing influence within the GOP.\n",
       "- **Celebrity News:** Notable mentions include Aubrey Plaza talking about the personal tragedy of losing her husband and celebrity highlights from recent events like the Golden Globes.\n",
       "\n",
       "### Sections\n",
       "- The site includes various dedicated sections for weather, sports coverage, health updates, and special features.\n",
       "- Multimedia options such as videos and live broadcasts are available, enriching the reader's experience with visual content.\n",
       "\n",
       "The overall focus of the CNN website is to provide timely and comprehensive news coverage, along with engaging multimedia resources for viewers and readers."
      ],
      "text/plain": [
       "<IPython.core.display.Markdown object>"
      ]
     },
     "metadata": {},
     "output_type": "display_data"
    }
   ],
   "source": [
    "display_summary(\"https://cnn.com\")"
   ]
  },
  {
   "cell_type": "code",
   "execution_count": null,
   "id": "75e9fd40-b354-4341-991e-863ef2e59db7",
   "metadata": {},
   "outputs": [],
   "source": [
    "display_summary(\"https://anthropic.com\")"
   ]
  },
  {
   "cell_type": "markdown",
   "id": "c951be1a-7f1b-448f-af1f-845978e47e2c",
   "metadata": {},
   "source": [
    "<table style=\"margin: 0; text-align: left;\">\n",
    "    <tr>\n",
    "        <td style=\"width: 150px; height: 150px; vertical-align: middle;\">\n",
    "            <img src=\"../business.jpg\" width=\"150\" height=\"150\" style=\"display: block;\" />\n",
    "        </td>\n",
    "        <td>\n",
    "            <h2 style=\"color:#181;\">Business applications</h2>\n",
    "            <span style=\"color:#181;\">In this exercise, you experienced calling the Cloud API of a Frontier Model (a leading model at the frontier of AI) for the first time. We will be using APIs like OpenAI at many stages in the course, in addition to building our own LLMs.\n",
    "\n",
    "More specifically, we've applied this to Summarization - a classic Gen AI use case to make a summary. This can be applied to any business vertical - summarizing the news, summarizing financial performance, summarizing a resume in a cover letter - the applications are limitless. Consider how you could apply Summarization in your business, and try prototyping a solution.</span>\n",
    "        </td>\n",
    "    </tr>\n",
    "</table>\n",
    "\n",
    "<table style=\"margin: 0; text-align: left;\">\n",
    "    <tr>\n",
    "        <td style=\"width: 150px; height: 150px; vertical-align: middle;\">\n",
    "            <img src=\"../important.jpg\" width=\"150\" height=\"150\" style=\"display: block;\" />\n",
    "        </td>\n",
    "        <td>\n",
    "            <h2 style=\"color:#900;\">Before you continue - now try yourself</h2>\n",
    "            <span style=\"color:#900;\">Use the cell below to make your own simple commercial example. Stick with the summarization use case for now. Here's an idea: write something that will take the contents of an email, and will suggest an appropriate short subject line for the email. That's the kind of feature that might be built into a commercial email tool.</span>\n",
    "        </td>\n",
    "    </tr>\n",
    "</table>"
   ]
  },
  {
   "cell_type": "code",
   "execution_count": null,
   "id": "00743dac-0e70-45b7-879a-d7293a6f68a6",
   "metadata": {},
   "outputs": [],
   "source": [
    "# Step 1: Create your prompts\n",
    "\n",
    "system_prompt = \"something here\"\n",
    "user_prompt = \"\"\"\n",
    "    Lots of text\n",
    "    Can be pasted here\n",
    "\"\"\"\n",
    "\n",
    "# Step 2: Make the messages list\n",
    "\n",
    "messages = [] # fill this in\n",
    "\n",
    "# Step 3: Call OpenAI\n",
    "\n",
    "response =\n",
    "\n",
    "# Step 4: print the result\n",
    "\n",
    "print()"
   ]
  },
  {
   "cell_type": "code",
   "execution_count": 19,
   "id": "90e97055",
   "metadata": {},
   "outputs": [],
   "source": [
    "#import libraries\n",
    "\n",
    "import os\n",
    "import pandas as pd\n",
    "from openai import OpenAI\n",
    "from IPython.display import Markdown, display\n",
    "from dotenv import load_dotenv"
   ]
  },
  {
   "cell_type": "code",
   "execution_count": 33,
   "id": "3b40fd7a",
   "metadata": {},
   "outputs": [],
   "source": [
    "sys_pmt = \"You are professional email writer. based on content provided to you summarize and analyze it then \\\n",
    "    you will provide 5 Email subject titles for each email content in a given list of data which will be more suitable for an email based on content.\" "
   ]
  },
  {
   "cell_type": "code",
   "execution_count": 34,
   "id": "273db8b3",
   "metadata": {},
   "outputs": [],
   "source": [
    "data =[\"I wanted to take a moment to sincerely thank you for your hard work and dedication since joining us in October 2024. Your knowledge of AI/ML has been impressive, and your ability to handle tasks with such efficiency and skill has truly stood out. You've consistently demonstrated a strong commitment to your work, and your contributions have made a positive impact on our team.I appreciate your proactive attitude and willingness to learn. It's been a pleasure having you as part of the team, and I look forward to seeing all the great things you will continue to achieve.\",\n",
    "       \"Solar energy is a renewable resource harnessed from the sun's rays. It is one of the cleanest forms of energy, reducing dependence on fossil fuels. Solar panels convert sunlight into electricity through photovoltaic cells. As technology advances, solar energy is becoming more efficient and affordable. It plays a significant role in combating climate change and reducing carbon footprints.\"\n",
    "       \"Artificial intelligence (AI) refers to machines designed to mimic human intelligence. It encompasses learning, reasoning, and problem-solving capabilities. AI is already used in various sectors like healthcare, finance, and entertainment. The growing field raises ethical questions about job displacement and privacy. However, AI offers immense potential for innovation and improving daily life\"\n",
    "       \"Space exploration involves the discovery and exploration of outer space through human or robotic missions. Advancements have allowed humans to land on the Moon, send rovers to Mars, and study distant galaxies. Space agencies like NASA and private companies like SpaceX are pushing boundaries. Future exploration may include colonizing Mars and understanding the universe's origins. The pursuit fuels curiosity and scientific progress.\"\n",
    "       \"Mental health awareness is about recognizing and understanding mental health issues, reducing stigma, and encouraging open conversations. Conditions such as depression, anxiety, and PTSD affect millions worldwide. Early intervention and proper support can lead to better outcomes for those struggling. Public awareness campaigns help increase empathy and reduce discrimination. Mental health care is becoming a crucial part of overall healthcare systems.\"\n",
    "       \"Electric vehicles (EVs) are cars powered by electricity rather than gasoline or diesel. They help reduce emissions, decrease air pollution, and offer an environmentally friendly alternative to traditional cars. EV technology has seen rapid improvements in battery life and charging infrastructure. As governments set stricter environmental regulations, EV adoption is expected to grow. Leading brands like Tesla are pushing the market forward.\"]"
   ]
  },
  {
   "cell_type": "code",
   "execution_count": 35,
   "id": "7c98cc64",
   "metadata": {},
   "outputs": [],
   "source": [
    "def content(data):\n",
    "        user_pmt = f\"The most suitable email subject lines based on your {data} is as follows:\\\n",
    "            display the results in markdown\"\n",
    "        return user_pmt"
   ]
  },
  {
   "cell_type": "code",
   "execution_count": 36,
   "id": "a4c497ee",
   "metadata": {},
   "outputs": [
    {
     "data": {
      "text/plain": [
       "'The most suitable email subject lines based on your [\"I wanted to take a moment to sincerely thank you for your hard work and dedication since joining us in October 2024. Your knowledge of AI/ML has been impressive, and your ability to handle tasks with such efficiency and skill has truly stood out. You\\'ve consistently demonstrated a strong commitment to your work, and your contributions have made a positive impact on our team.I appreciate your proactive attitude and willingness to learn. It\\'s been a pleasure having you as part of the team, and I look forward to seeing all the great things you will continue to achieve.\", \"Solar energy is a renewable resource harnessed from the sun\\'s rays. It is one of the cleanest forms of energy, reducing dependence on fossil fuels. Solar panels convert sunlight into electricity through photovoltaic cells. As technology advances, solar energy is becoming more efficient and affordable. It plays a significant role in combating climate change and reducing carbon footprints.Artificial intelligence (AI) refers to machines designed to mimic human intelligence. It encompasses learning, reasoning, and problem-solving capabilities. AI is already used in various sectors like healthcare, finance, and entertainment. The growing field raises ethical questions about job displacement and privacy. However, AI offers immense potential for innovation and improving daily lifeSpace exploration involves the discovery and exploration of outer space through human or robotic missions. Advancements have allowed humans to land on the Moon, send rovers to Mars, and study distant galaxies. Space agencies like NASA and private companies like SpaceX are pushing boundaries. Future exploration may include colonizing Mars and understanding the universe\\'s origins. The pursuit fuels curiosity and scientific progress.Mental health awareness is about recognizing and understanding mental health issues, reducing stigma, and encouraging open conversations. Conditions such as depression, anxiety, and PTSD affect millions worldwide. Early intervention and proper support can lead to better outcomes for those struggling. Public awareness campaigns help increase empathy and reduce discrimination. Mental health care is becoming a crucial part of overall healthcare systems.Electric vehicles (EVs) are cars powered by electricity rather than gasoline or diesel. They help reduce emissions, decrease air pollution, and offer an environmentally friendly alternative to traditional cars. EV technology has seen rapid improvements in battery life and charging infrastructure. As governments set stricter environmental regulations, EV adoption is expected to grow. Leading brands like Tesla are pushing the market forward.\"] is as follows:            display the results in markdown'"
      ]
     },
     "execution_count": 36,
     "metadata": {},
     "output_type": "execute_result"
    }
   ],
   "source": [
    "content(data)"
   ]
  },
  {
   "cell_type": "code",
   "execution_count": 37,
   "id": "c1f1317e",
   "metadata": {},
   "outputs": [],
   "source": [
    "def user(data):\n",
    "    return [\n",
    "        {\"role\":\"system\",\"content\":sys_pmt},\n",
    "        {\"role\":\"user\",\"content\":content(data)}   \n",
    "    ]"
   ]
  },
  {
   "cell_type": "code",
   "execution_count": 38,
   "id": "8f8b5cd5",
   "metadata": {},
   "outputs": [
    {
     "data": {
      "text/plain": [
       "[{'role': 'system',\n",
       "  'content': 'You are professional email writer. based on content provided to you summarize and analyze it then     you will provide 5 Email subject titles for each email content in a given list of data which will be more suitable for an email based on content.'},\n",
       " {'role': 'user',\n",
       "  'content': 'The most suitable email subject lines based on your [\"I wanted to take a moment to sincerely thank you for your hard work and dedication since joining us in October 2024. Your knowledge of AI/ML has been impressive, and your ability to handle tasks with such efficiency and skill has truly stood out. You\\'ve consistently demonstrated a strong commitment to your work, and your contributions have made a positive impact on our team.I appreciate your proactive attitude and willingness to learn. It\\'s been a pleasure having you as part of the team, and I look forward to seeing all the great things you will continue to achieve.\", \"Solar energy is a renewable resource harnessed from the sun\\'s rays. It is one of the cleanest forms of energy, reducing dependence on fossil fuels. Solar panels convert sunlight into electricity through photovoltaic cells. As technology advances, solar energy is becoming more efficient and affordable. It plays a significant role in combating climate change and reducing carbon footprints.Artificial intelligence (AI) refers to machines designed to mimic human intelligence. It encompasses learning, reasoning, and problem-solving capabilities. AI is already used in various sectors like healthcare, finance, and entertainment. The growing field raises ethical questions about job displacement and privacy. However, AI offers immense potential for innovation and improving daily lifeSpace exploration involves the discovery and exploration of outer space through human or robotic missions. Advancements have allowed humans to land on the Moon, send rovers to Mars, and study distant galaxies. Space agencies like NASA and private companies like SpaceX are pushing boundaries. Future exploration may include colonizing Mars and understanding the universe\\'s origins. The pursuit fuels curiosity and scientific progress.Mental health awareness is about recognizing and understanding mental health issues, reducing stigma, and encouraging open conversations. Conditions such as depression, anxiety, and PTSD affect millions worldwide. Early intervention and proper support can lead to better outcomes for those struggling. Public awareness campaigns help increase empathy and reduce discrimination. Mental health care is becoming a crucial part of overall healthcare systems.Electric vehicles (EVs) are cars powered by electricity rather than gasoline or diesel. They help reduce emissions, decrease air pollution, and offer an environmentally friendly alternative to traditional cars. EV technology has seen rapid improvements in battery life and charging infrastructure. As governments set stricter environmental regulations, EV adoption is expected to grow. Leading brands like Tesla are pushing the market forward.\"] is as follows:            display the results in markdown'}]"
      ]
     },
     "execution_count": 38,
     "metadata": {},
     "output_type": "execute_result"
    }
   ],
   "source": [
    "user(data)"
   ]
  },
  {
   "cell_type": "code",
   "execution_count": 39,
   "id": "c7d1de0f",
   "metadata": {},
   "outputs": [],
   "source": [
    "def title(data):\n",
    "    response=openai.chat.completions.create(\n",
    "        model=\"gpt-4o-mini\",\n",
    "        messages=user(data)\n",
    "    )\n",
    "    return response.choices[0].message.content"
   ]
  },
  {
   "cell_type": "code",
   "execution_count": 40,
   "id": "2d6d3484",
   "metadata": {},
   "outputs": [
    {
     "data": {
      "text/markdown": [
       "Here are the summarized email subjects based on the provided content:\n",
       "\n",
       "### Email Content 1: Thanks and Recognition for Performance\n",
       "1. **\"Thank You for Your Exceptional Contributions!\"**\n",
       "2. **\"Celebrating Your Dedication and Hard Work!\"**\n",
       "3. **\"Your Impact on Our Team: A Heartfelt Thank You\"**\n",
       "4. **\"Acknowledging Your Skills in AI/ML\"**\n",
       "5. **\"Looking Forward to Your Continued Success!\"**\n",
       "\n",
       "### Email Content 2: Overview of Solar Energy\n",
       "1. **\"Harnessing the Power of Solar Energy\"**\n",
       "2. **\"The Future of Renewable Energy: Solar Power Insights\"**\n",
       "3. **\"How Solar Energy is Transforming Our World\"**\n",
       "4. **\"Understanding Solar Energy's Role in Climate Change\"**\n",
       "5. **\"The Advancements and Benefits of Solar Technology\"**\n",
       "\n",
       "### Email Content 3: Artificial Intelligence Overview\n",
       "1. **\"Exploring the World of Artificial Intelligence\"**\n",
       "2. **\"The Impact of AI on Various Sectors\"**\n",
       "3. **\"Understanding AI: Opportunities and Ethical Considerations\"**\n",
       "4. **\"How AI is Shaping Our Future\"**\n",
       "5. **\"Innovations and Challenges in Artificial Intelligence\"**\n",
       "\n",
       "### Email Content 4: Space Exploration Developments\n",
       "1. **\"Pushing Boundaries: The Latest in Space Exploration\"**\n",
       "2. **\"Exploring the Universe: Advances in Space Missions\"**\n",
       "3. **\"The Future of Space Exploration: Mars and Beyond\"**\n",
       "4. **\"Understanding Our Universe: Space Agencies at Work\"**\n",
       "5. **\"The Journey of Human Discovery in Outer Space\"**\n",
       "\n",
       "### Email Content 5: Mental Health Awareness\n",
       "1. **\"Shining a Light on Mental Health Awareness\"**\n",
       "2. **\"The Importance of Understanding Mental Health Issues\"**\n",
       "3. **\"Reducing Stigma: Conversations on Mental Health\"**\n",
       "4. **\"Early Intervention: Key to Supporting Mental Wellness\"**\n",
       "5. **\"Mental Health Matters: Join the Awareness Movement\"**\n",
       "\n",
       "### Email Content 6: Electric Vehicles Insights\n",
       "1. **\"The Rise of Electric Vehicles: A Green Revolution\"**\n",
       "2. **\"EVs: The Future of Eco-Friendly Transportation\"**\n",
       "3. **\"Understanding the Benefits of Electric Cars\"**\n",
       "4. **\"The Innovations Driving Electric Vehicle Adoption\"**\n",
       "5. **\"Reducing Emissions: The Importance of Electric Vehicles\"** \n",
       "\n",
       "This structured format provides clear email subject lines tailored to each topic, ensuring clarity and relevance."
      ],
      "text/plain": [
       "<IPython.core.display.Markdown object>"
      ]
     },
     "metadata": {},
     "output_type": "display_data"
    }
   ],
   "source": [
    "display(Markdown(title(data)))"
   ]
  },
  {
   "cell_type": "code",
   "execution_count": null,
   "id": "d3ddef54",
   "metadata": {},
   "outputs": [],
   "source": []
  },
  {
   "cell_type": "code",
   "execution_count": null,
   "id": "c6b3bc0d",
   "metadata": {},
   "outputs": [],
   "source": []
  },
  {
   "cell_type": "markdown",
   "id": "36ed9f14-b349-40e9-a42c-b367e77f8bda",
   "metadata": {},
   "source": [
    "## An extra exercise for those who enjoy web scraping\n",
    "\n",
    "You may notice that if you try `display_summary(\"https://openai.com\")` - it doesn't work! That's because OpenAI has a fancy website that uses Javascript. There are many ways around this that some of you might be familiar with. For example, Selenium is a hugely popular framework that runs a browser behind the scenes, renders the page, and allows you to query it. If you have experience with Selenium, Playwright or similar, then feel free to improve the Website class to use them. In the community-contributions folder, you'll find an example Selenium solution from a student (thank you!)"
   ]
  },
  {
   "cell_type": "markdown",
   "id": "eeab24dc-5f90-4570-b542-b0585aca3eb6",
   "metadata": {},
   "source": [
    "# Sharing your code\n",
    "\n",
    "I'd love it if you share your code afterwards so I can share it with others! You'll notice that some students have already made changes (including a Selenium implementation) which you will find in the community-contributions folder. If you'd like add your changes to that folder, submit a Pull Request with your new versions in that folder and I'll merge your changes.\n",
    "\n",
    "If you're not an expert with git (and I am not!) then GPT has given some nice instructions on how to submit a Pull Request. It's a bit of an involved process, but once you've done it once it's pretty clear. As a pro-tip: it's best if you clear the outputs of your Jupyter notebooks (Edit >> Clean outputs of all cells, and then Save) for clean notebooks.\n",
    "\n",
    "PR instructions courtesy of an AI friend: https://chatgpt.com/share/670145d5-e8a8-8012-8f93-39ee4e248b4c"
   ]
  },
  {
   "cell_type": "code",
   "execution_count": null,
   "id": "682eff74-55c4-4d4b-b267-703edbc293c7",
   "metadata": {},
   "outputs": [],
   "source": []
  }
 ],
 "metadata": {
  "kernelspec": {
   "display_name": "venv",
   "language": "python",
   "name": "python3"
  },
  "language_info": {
   "codemirror_mode": {
    "name": "ipython",
    "version": 3
   },
   "file_extension": ".py",
   "mimetype": "text/x-python",
   "name": "python",
   "nbconvert_exporter": "python",
   "pygments_lexer": "ipython3",
   "version": "3.11.0"
  }
 },
 "nbformat": 4,
 "nbformat_minor": 5
}
